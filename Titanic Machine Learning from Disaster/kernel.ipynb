{
  "cells": [
    {
      "metadata": {
        "_uuid": "8f2839f25d086af736a60e9eeb907d3b93b6e0e5",
        "_cell_guid": "b1076dfc-b9ad-4769-8c92-a6c4dae69d19",
        "trusted": true,
        "_kg_hide-input": true,
        "scrolled": true
      },
      "cell_type": "code",
      "source": "import numpy as np # linear algebra\nimport pandas as pd # data processing, CSV file I/O (e.g. pd.read_csv)\n\n# Input data files are available in the \"../input/\" directory.\n# For example, running this (by clicking run or pressing Shift+Enter) will list the files in the input directory\n\nimport os\nprint(os.listdir(\"../input\"))\n\n# Any results you write to the current directory are saved as output.\npd1 = pd.read_csv('../input/train.csv')\npd2 = pd.read_csv('../input/gender_submission.csv')\npd3 = pd.read_csv('../input/test.csv')\nprint('Train: ',pd1.head())\nprint('gender_submission: ',pd2.head())\nprint('Test:\\n',pd3.head())\ntest = pd1\ntest=test.drop(columns=['Name','Ticket','Cabin'])\nprint(test.head())",
      "execution_count": 64,
      "outputs": [
        {
          "output_type": "stream",
          "text": "['train.csv', 'gender_submission.csv', 'test.csv']\nTrain:     PassengerId  Survived  Pclass    ...        Fare Cabin  Embarked\n0            1         0       3    ...      7.2500   NaN         S\n1            2         1       1    ...     71.2833   C85         C\n2            3         1       3    ...      7.9250   NaN         S\n3            4         1       1    ...     53.1000  C123         S\n4            5         0       3    ...      8.0500   NaN         S\n\n[5 rows x 12 columns]\ngender_submission:     PassengerId  Survived\n0          892         0\n1          893         1\n2          894         0\n3          895         0\n4          896         1\nTest:\n    PassengerId  Pclass   ...    Cabin Embarked\n0          892       3   ...      NaN        Q\n1          893       3   ...      NaN        S\n2          894       2   ...      NaN        Q\n3          895       3   ...      NaN        S\n4          896       3   ...      NaN        S\n\n[5 rows x 11 columns]\n   PassengerId  Survived  Pclass    ...    Parch     Fare  Embarked\n0            1         0       3    ...        0   7.2500         S\n1            2         1       1    ...        0  71.2833         C\n2            3         1       3    ...        0   7.9250         S\n3            4         1       1    ...        0  53.1000         S\n4            5         0       3    ...        0   8.0500         S\n\n[5 rows x 9 columns]\n",
          "name": "stdout"
        }
      ]
    },
    {
      "metadata": {
        "trusted": true,
        "_uuid": "903f940e7e79c69eb901d5f81af4ba604d97d57c"
      },
      "cell_type": "code",
      "source": "gender = {'male': 0,'female': 1}\ntest.Sex = [gender[item] for item in test.Sex] \nprint(test['Sex'])",
      "execution_count": 65,
      "outputs": [
        {
          "output_type": "stream",
          "text": "0      0\n1      1\n2      1\n3      1\n4      0\n5      0\n6      0\n7      0\n8      1\n9      1\n10     1\n11     1\n12     0\n13     0\n14     1\n15     1\n16     0\n17     0\n18     1\n19     1\n20     0\n21     0\n22     1\n23     0\n24     1\n25     1\n26     0\n27     0\n28     1\n29     0\n      ..\n861    0\n862    1\n863    1\n864    0\n865    1\n866    1\n867    0\n868    0\n869    0\n870    0\n871    1\n872    0\n873    0\n874    1\n875    1\n876    0\n877    0\n878    0\n879    1\n880    1\n881    0\n882    1\n883    0\n884    0\n885    1\n886    0\n887    1\n888    1\n889    0\n890    0\nName: Sex, Length: 891, dtype: int64\n",
          "name": "stdout"
        }
      ]
    },
    {
      "metadata": {
        "trusted": true,
        "scrolled": true,
        "_uuid": "4d382bd90031775b6b2a6a4a374d237c2ea5d2a8"
      },
      "cell_type": "code",
      "source": "test.dropna(inplace=True)\nembarked = {'nan':0, 'C':1, 'c':1, 'Q':2, 'q':2, 'S':3, 's':3}\ntest.Embarked = [embarked[item] for item in test.Embarked]\nprint(test.describe())",
      "execution_count": 66,
      "outputs": [
        {
          "output_type": "stream",
          "text": "       PassengerId    Survived     ...            Fare    Embarked\ncount   712.000000  712.000000     ...      712.000000  712.000000\nmean    448.589888    0.404494     ...       34.567251    2.595506\nstd     258.683191    0.491139     ...       52.938648    0.779038\nmin       1.000000    0.000000     ...        0.000000    1.000000\n25%     222.750000    0.000000     ...        8.050000    3.000000\n50%     445.000000    0.000000     ...       15.645850    3.000000\n75%     677.250000    1.000000     ...       33.000000    3.000000\nmax     891.000000    1.000000     ...      512.329200    3.000000\n\n[8 rows x 9 columns]\n",
          "name": "stdout"
        }
      ]
    },
    {
      "metadata": {
        "trusted": true,
        "_uuid": "18eddc44b637c9473355d0c01ea1c6fe2c2f258d"
      },
      "cell_type": "code",
      "source": "from sklearn.model_selection import train_test_split\nX_train = test.drop(columns=['Survived'])\nY_train = test['Survived']\nX_train, X_test, Y_train, Y_test = train_test_split(X_train, Y_train, test_size=0.25)",
      "execution_count": 67,
      "outputs": []
    },
    {
      "metadata": {
        "trusted": true,
        "_uuid": "729cc3d3e485dbf560ce82cbf1bcd54f7a8590ad"
      },
      "cell_type": "code",
      "source": "from sklearn.tree import DecisionTreeClassifier\nfrom sklearn.linear_model import LogisticRegression\nfrom sklearn.naive_bayes import GaussianNB\nfrom sklearn.svm import SVC\nfrom sklearn.ensemble import GradientBoostingClassifier\nfrom sklearn.ensemble import RandomForestClassifier\nfrom sklearn.neural_network import MLPClassifier\ndtclf = DecisionTreeClassifier()\ndtclf.fit(X_train, Y_train)\nlrclf = LogisticRegression()\nlrclf.fit(X_train, Y_train)\nnbclf = GaussianNB()\nnbclf.fit(X_train,Y_train)\nsvmclf = SVC()\nsvmclf.fit(X_train, Y_train)\ngbclf = GradientBoostingClassifier()\ngbclf.fit(X_train, Y_train)\nrfclf = RandomForestClassifier()\nrfclf.fit(X_train, Y_train)\nnnclf = MLPClassifier(solver='lbfgs', alpha=1e-5, hidden_layer_sizes=(5, 2), random_state=1)\nnnclf.fit(X_train, Y_train)",
      "execution_count": 68,
      "outputs": [
        {
          "output_type": "execute_result",
          "execution_count": 68,
          "data": {
            "text/plain": "DecisionTreeClassifier(class_weight=None, criterion='gini', max_depth=None,\n            max_features=None, max_leaf_nodes=None,\n            min_impurity_decrease=0.0, min_impurity_split=None,\n            min_samples_leaf='deprecated', min_samples_split=2,\n            min_weight_fraction_leaf='deprecated', presort=False,\n            random_state=None, splitter='best')"
          },
          "metadata": {}
        }
      ]
    },
    {
      "metadata": {
        "trusted": true,
        "_uuid": "ee5b95fbf006320d6b28f2143b264277f109c6b8"
      },
      "cell_type": "code",
      "source": "from sklearn.metrics import accuracy_score\nacc={'dt':0, 'lr':0, 'nb':0, 'svm':0, 'bt':0, 'rf':0, 'nn':0, 'near':0}\nY_pred = dtclf.predict(X_test)\nacc['dt'] = accuracy_score(Y_test,Y_pred)\nprint(acc)",
      "execution_count": 70,
      "outputs": [
        {
          "output_type": "stream",
          "text": "0.7247191011235955\n",
          "name": "stdout"
        }
      ]
    },
    {
      "metadata": {
        "_cell_guid": "79c7e3d0-c299-4dcb-8224-4455121ee9b0",
        "collapsed": true,
        "_uuid": "d629ff2d2480ee46fbb7e2d37f6b5fab8052498a",
        "trusted": false
      },
      "cell_type": "markdown",
      "source": "# Titanic: Machine Learning from Disaster\n\n## Table of Contents\n<ul>\n<li><a href=\"#intro\">Introduction</a></li>\n<li><a href=\"#wrangling\">Data Wrangling</a></li>\n<li><a href=\"#eda\">Exploratory Data Analysis</a></li>\n<li><a href=\"#rq1\">1. Decision Tree</a></li>\n<li><a href=\"#rq2\">2. </a></li>\n<li><a href=\"#conclusions\">Conclusions</a></li>\n</ul>"
    },
    {
      "metadata": {
        "_uuid": "0d9eb9f624f8a67ebc4330cc87a432ba3423ceda"
      },
      "cell_type": "markdown",
      "source": "# <a id='intro'></a>\n## Introduction\n\n*Goal:\nTo predict if a passenger survived the sinking of the Titanic or not. \nFor each PassengerId in the test set, to predict a 0 or 1 value for the Survived variable.\n\n*Metric:\nScore is the percentage of passengers correctly predicted. This is known simply as \"accuracy”."
    }
  ],
  "metadata": {
    "kernelspec": {
      "display_name": "Python 3",
      "language": "python",
      "name": "python3"
    },
    "language_info": {
      "name": "python",
      "version": "3.6.6",
      "mimetype": "text/x-python",
      "codemirror_mode": {
        "name": "ipython",
        "version": 3
      },
      "pygments_lexer": "ipython3",
      "nbconvert_exporter": "python",
      "file_extension": ".py"
    }
  },
  "nbformat": 4,
  "nbformat_minor": 1
}